{
 "cells": [
  {
   "cell_type": "code",
   "execution_count": 1,
   "id": "834b7356",
   "metadata": {},
   "outputs": [],
   "source": [
    "using AlgebraicPetri\n",
    "\n",
    "using OrdinaryDiffEq\n",
    "using StochasticDiffEq\n",
    "using DiffEqJump\n",
    "using Plots\n",
    "using LabelledArrays\n",
    "using Catlab\n",
    "using Catlab.Graphics\n",
    "using Catlab.WiringDiagrams\n",
    "using Catlab.CategoricalAlgebra\n",
    "using Catlab.Programs.RelationalPrograms\n",
    "\n",
    "display_uwd(ex) = to_graphviz(ex, box_labels=:name, junction_labels=:variable, edge_attrs=Dict(:len=>\".75\"));"
   ]
  },
  {
   "cell_type": "code",
   "execution_count": 10,
   "id": "fdb1619a",
   "metadata": {},
   "outputs": [
    {
     "data": {
      "text/html": [
       "<div class=\"c-set\">\n",
       "<span class=\"c-set-summary\">LabelledPetriNet with elements T = 1:1, S = 1:2, I = 1:2, O = 1:2</span>\n",
       "<table>\n",
       "  <thead>\n",
       "    <tr class = \"header headerLastRow\">\n",
       "      <th class = \"rowNumber\">T</th>\n",
       "      <th style = \"text-align: right;\">tname</th>\n",
       "    </tr>\n",
       "  </thead>\n",
       "  <tbody>\n",
       "    <tr>\n",
       "      <td class = \"rowNumber\">1</td>\n",
       "      <td style = \"text-align: right;\">β</td>\n",
       "    </tr>\n",
       "  </tbody>\n",
       "</table>\n",
       "<table>\n",
       "  <thead>\n",
       "    <tr class = \"header headerLastRow\">\n",
       "      <th class = \"rowNumber\">S</th>\n",
       "      <th style = \"text-align: right;\">sname</th>\n",
       "    </tr>\n",
       "  </thead>\n",
       "  <tbody>\n",
       "    <tr>\n",
       "      <td class = \"rowNumber\">1</td>\n",
       "      <td style = \"text-align: right;\">S</td>\n",
       "    </tr>\n",
       "    <tr>\n",
       "      <td class = \"rowNumber\">2</td>\n",
       "      <td style = \"text-align: right;\">I</td>\n",
       "    </tr>\n",
       "  </tbody>\n",
       "</table>\n",
       "<table>\n",
       "  <thead>\n",
       "    <tr class = \"header headerLastRow\">\n",
       "      <th class = \"rowNumber\">I</th>\n",
       "      <th style = \"text-align: right;\">it</th>\n",
       "      <th style = \"text-align: right;\">is</th>\n",
       "    </tr>\n",
       "  </thead>\n",
       "  <tbody>\n",
       "    <tr>\n",
       "      <td class = \"rowNumber\">1</td>\n",
       "      <td style = \"text-align: right;\">1</td>\n",
       "      <td style = \"text-align: right;\">1</td>\n",
       "    </tr>\n",
       "    <tr>\n",
       "      <td class = \"rowNumber\">2</td>\n",
       "      <td style = \"text-align: right;\">1</td>\n",
       "      <td style = \"text-align: right;\">2</td>\n",
       "    </tr>\n",
       "  </tbody>\n",
       "</table>\n",
       "<table>\n",
       "  <thead>\n",
       "    <tr class = \"header headerLastRow\">\n",
       "      <th class = \"rowNumber\">O</th>\n",
       "      <th style = \"text-align: right;\">ot</th>\n",
       "      <th style = \"text-align: right;\">os</th>\n",
       "    </tr>\n",
       "  </thead>\n",
       "  <tbody>\n",
       "    <tr>\n",
       "      <td class = \"rowNumber\">1</td>\n",
       "      <td style = \"text-align: right;\">1</td>\n",
       "      <td style = \"text-align: right;\">2</td>\n",
       "    </tr>\n",
       "    <tr>\n",
       "      <td class = \"rowNumber\">2</td>\n",
       "      <td style = \"text-align: right;\">1</td>\n",
       "      <td style = \"text-align: right;\">2</td>\n",
       "    </tr>\n",
       "  </tbody>\n",
       "</table>\n",
       "</div>\n"
      ],
      "text/plain": [
       "LabelledPetriNet with elements T = 1:1, S = 1:2, I = 1:2, O = 1:2\n",
       "┌───┬───────┐\n",
       "│\u001b[1m T \u001b[0m│\u001b[1m tname \u001b[0m│\n",
       "├───┼───────┤\n",
       "│ 1 │     β │\n",
       "└───┴───────┘\n",
       "┌───┬───────┐\n",
       "│\u001b[1m S \u001b[0m│\u001b[1m sname \u001b[0m│\n",
       "├───┼───────┤\n",
       "│ 1 │     S │\n",
       "│ 2 │     I │\n",
       "└───┴───────┘\n",
       "┌───┬────┬────┐\n",
       "│\u001b[1m I \u001b[0m│\u001b[1m it \u001b[0m│\u001b[1m is \u001b[0m│\n",
       "├───┼────┼────┤\n",
       "│ 1 │  1 │  1 │\n",
       "│ 2 │  1 │  2 │\n",
       "└───┴────┴────┘\n",
       "┌───┬────┬────┐\n",
       "│\u001b[1m O \u001b[0m│\u001b[1m ot \u001b[0m│\u001b[1m os \u001b[0m│\n",
       "├───┼────┼────┤\n",
       "│ 1 │  1 │  2 │\n",
       "│ 2 │  1 │  2 │\n",
       "└───┴────┴────┘\n"
      ]
     },
     "execution_count": 10,
     "metadata": {},
     "output_type": "execute_result"
    }
   ],
   "source": [
    "leftNet = LabelledPetriNet([:S, :I], :β=>(:S,:I)=>(:I,:I))"
   ]
  },
  {
   "cell_type": "code",
   "execution_count": 11,
   "id": "a4db0f61",
   "metadata": {},
   "outputs": [
    {
     "data": {
      "text/html": [
       "<div class=\"c-set\">\n",
       "<span class=\"c-set-summary\">LabelledPetriNet with elements T = 1:1, S = 1:2, I = 1:1, O = 1:1</span>\n",
       "<table>\n",
       "  <thead>\n",
       "    <tr class = \"header headerLastRow\">\n",
       "      <th class = \"rowNumber\">T</th>\n",
       "      <th style = \"text-align: right;\">tname</th>\n",
       "    </tr>\n",
       "  </thead>\n",
       "  <tbody>\n",
       "    <tr>\n",
       "      <td class = \"rowNumber\">1</td>\n",
       "      <td style = \"text-align: right;\">γ</td>\n",
       "    </tr>\n",
       "  </tbody>\n",
       "</table>\n",
       "<table>\n",
       "  <thead>\n",
       "    <tr class = \"header headerLastRow\">\n",
       "      <th class = \"rowNumber\">S</th>\n",
       "      <th style = \"text-align: right;\">sname</th>\n",
       "    </tr>\n",
       "  </thead>\n",
       "  <tbody>\n",
       "    <tr>\n",
       "      <td class = \"rowNumber\">1</td>\n",
       "      <td style = \"text-align: right;\">I</td>\n",
       "    </tr>\n",
       "    <tr>\n",
       "      <td class = \"rowNumber\">2</td>\n",
       "      <td style = \"text-align: right;\">S</td>\n",
       "    </tr>\n",
       "  </tbody>\n",
       "</table>\n",
       "<table>\n",
       "  <thead>\n",
       "    <tr class = \"header headerLastRow\">\n",
       "      <th class = \"rowNumber\">I</th>\n",
       "      <th style = \"text-align: right;\">it</th>\n",
       "      <th style = \"text-align: right;\">is</th>\n",
       "    </tr>\n",
       "  </thead>\n",
       "  <tbody>\n",
       "    <tr>\n",
       "      <td class = \"rowNumber\">1</td>\n",
       "      <td style = \"text-align: right;\">1</td>\n",
       "      <td style = \"text-align: right;\">1</td>\n",
       "    </tr>\n",
       "  </tbody>\n",
       "</table>\n",
       "<table>\n",
       "  <thead>\n",
       "    <tr class = \"header headerLastRow\">\n",
       "      <th class = \"rowNumber\">O</th>\n",
       "      <th style = \"text-align: right;\">ot</th>\n",
       "      <th style = \"text-align: right;\">os</th>\n",
       "    </tr>\n",
       "  </thead>\n",
       "  <tbody>\n",
       "    <tr>\n",
       "      <td class = \"rowNumber\">1</td>\n",
       "      <td style = \"text-align: right;\">1</td>\n",
       "      <td style = \"text-align: right;\">2</td>\n",
       "    </tr>\n",
       "  </tbody>\n",
       "</table>\n",
       "</div>\n"
      ],
      "text/plain": [
       "LabelledPetriNet with elements T = 1:1, S = 1:2, I = 1:1, O = 1:1\n",
       "┌───┬───────┐\n",
       "│\u001b[1m T \u001b[0m│\u001b[1m tname \u001b[0m│\n",
       "├───┼───────┤\n",
       "│ 1 │     γ │\n",
       "└───┴───────┘\n",
       "┌───┬───────┐\n",
       "│\u001b[1m S \u001b[0m│\u001b[1m sname \u001b[0m│\n",
       "├───┼───────┤\n",
       "│ 1 │     I │\n",
       "│ 2 │     S │\n",
       "└───┴───────┘\n",
       "┌───┬────┬────┐\n",
       "│\u001b[1m I \u001b[0m│\u001b[1m it \u001b[0m│\u001b[1m is \u001b[0m│\n",
       "├───┼────┼────┤\n",
       "│ 1 │  1 │  1 │\n",
       "└───┴────┴────┘\n",
       "┌───┬────┬────┐\n",
       "│\u001b[1m O \u001b[0m│\u001b[1m ot \u001b[0m│\u001b[1m os \u001b[0m│\n",
       "├───┼────┼────┤\n",
       "│ 1 │  1 │  2 │\n",
       "└───┴────┴────┘\n"
      ]
     },
     "execution_count": 11,
     "metadata": {},
     "output_type": "execute_result"
    }
   ],
   "source": [
    "rightNet = LabelledPetriNet([:I, :S], :γ=>(:I=>:S))"
   ]
  },
  {
   "cell_type": "code",
   "execution_count": 14,
   "id": "1cd636c4",
   "metadata": {
    "scrolled": true
   },
   "outputs": [
    {
     "data": {
      "text/plain": [
       "StructuredCospan{Catlab.CategoricalAlgebra.StructuredCospans.DiscreteACSet{Catlab.CSetDataStructures.StructACSetFrame{(:S,), Catlab.Theories.SchemaDescType{(:S,), (), (:Name,), (:sname,), (sname = 1,), (sname = 1,)}, Tuple{Symbol}, (sname = false,), (sname = false,), NamedTuple{(:sname,), Tuple{Vector{Symbol}}}}, LabelledPetriNet}, Multicospan{LabelledPetriNet, TightACSetTransformation{Catlab.Theories.SchemaDescType{(:T, :S, :I, :O), (:it, :is, :ot, :os), (:Name,), (:tname, :sname), (it = 3, is = 3, ot = 4, os = 4, tname = 1, sname = 2), (it = 1, is = 2, ot = 1, os = 2, tname = 1, sname = 1)}, NamedTuple{(:T, :S, :I, :O), Tuple{Catlab.CategoricalAlgebra.FinSets.FinDomFunctionVector{Int64, UnitRange{Int64}, Catlab.CategoricalAlgebra.FinSets.FinSetInt}, Catlab.CategoricalAlgebra.FinSets.FinDomFunctionVector{Int64, Vector{Int64}, Catlab.CategoricalAlgebra.FinSets.FinSetInt}, Catlab.CategoricalAlgebra.FinSets.FinDomFunctionVector{Int64, UnitRange{Int64}, Catlab.CategoricalAlgebra.FinSets.FinSetInt}, Catlab.CategoricalAlgebra.FinSets.FinDomFunctionVector{Int64, UnitRange{Int64}, Catlab.CategoricalAlgebra.FinSets.FinSetInt}}}, LabelledPetriNet, LabelledPetriNet}, StaticArraysCore.SVector{2, TightACSetTransformation{Catlab.Theories.SchemaDescType{(:T, :S, :I, :O), (:it, :is, :ot, :os), (:Name,), (:tname, :sname), (it = 3, is = 3, ot = 4, os = 4, tname = 1, sname = 2), (it = 1, is = 2, ot = 1, os = 2, tname = 1, sname = 1)}, NamedTuple{(:T, :S, :I, :O), Tuple{Catlab.CategoricalAlgebra.FinSets.FinDomFunctionVector{Int64, UnitRange{Int64}, Catlab.CategoricalAlgebra.FinSets.FinSetInt}, Catlab.CategoricalAlgebra.FinSets.FinDomFunctionVector{Int64, Vector{Int64}, Catlab.CategoricalAlgebra.FinSets.FinSetInt}, Catlab.CategoricalAlgebra.FinSets.FinDomFunctionVector{Int64, UnitRange{Int64}, Catlab.CategoricalAlgebra.FinSets.FinSetInt}, Catlab.CategoricalAlgebra.FinSets.FinDomFunctionVector{Int64, UnitRange{Int64}, Catlab.CategoricalAlgebra.FinSets.FinSetInt}}}, LabelledPetriNet, LabelledPetriNet}}}, StaticArraysCore.SVector{2, Catlab.CSetDataStructures.StructACSetFrame{(:S,), Catlab.Theories.SchemaDescType{(:S,), (), (:Name,), (:sname,), (sname = 1,), (sname = 1,)}, Tuple{Symbol}, (sname = false,), (sname = false,), NamedTuple{(:sname,), Tuple{Vector{Symbol}}}}}}(Multicospan{LabelledPetriNet, TightACSetTransformation{Catlab.Theories.SchemaDescType{(:T, :S, :I, :O), (:it, :is, :ot, :os), (:Name,), (:tname, :sname), (it = 3, is = 3, ot = 4, os = 4, tname = 1, sname = 2), (it = 1, is = 2, ot = 1, os = 2, tname = 1, sname = 1)}, NamedTuple{(:T, :S, :I, :O), Tuple{Catlab.CategoricalAlgebra.FinSets.FinDomFunctionVector{Int64, UnitRange{Int64}, Catlab.CategoricalAlgebra.FinSets.FinSetInt}, Catlab.CategoricalAlgebra.FinSets.FinDomFunctionVector{Int64, Vector{Int64}, Catlab.CategoricalAlgebra.FinSets.FinSetInt}, Catlab.CategoricalAlgebra.FinSets.FinDomFunctionVector{Int64, UnitRange{Int64}, Catlab.CategoricalAlgebra.FinSets.FinSetInt}, Catlab.CategoricalAlgebra.FinSets.FinDomFunctionVector{Int64, UnitRange{Int64}, Catlab.CategoricalAlgebra.FinSets.FinSetInt}}}, LabelledPetriNet, LabelledPetriNet}, StaticArraysCore.SVector{2, TightACSetTransformation{Catlab.Theories.SchemaDescType{(:T, :S, :I, :O), (:it, :is, :ot, :os), (:Name,), (:tname, :sname), (it = 3, is = 3, ot = 4, os = 4, tname = 1, sname = 2), (it = 1, is = 2, ot = 1, os = 2, tname = 1, sname = 1)}, NamedTuple{(:T, :S, :I, :O), Tuple{Catlab.CategoricalAlgebra.FinSets.FinDomFunctionVector{Int64, UnitRange{Int64}, Catlab.CategoricalAlgebra.FinSets.FinSetInt}, Catlab.CategoricalAlgebra.FinSets.FinDomFunctionVector{Int64, Vector{Int64}, Catlab.CategoricalAlgebra.FinSets.FinSetInt}, Catlab.CategoricalAlgebra.FinSets.FinDomFunctionVector{Int64, UnitRange{Int64}, Catlab.CategoricalAlgebra.FinSets.FinSetInt}, Catlab.CategoricalAlgebra.FinSets.FinDomFunctionVector{Int64, UnitRange{Int64}, Catlab.CategoricalAlgebra.FinSets.FinSetInt}}}, LabelledPetriNet, LabelledPetriNet}}}(LabelledPetriNet:\n",
       "  T = 1:1\n",
       "  S = 1:2\n",
       "  I = 1:2\n",
       "  O = 1:2\n",
       "  it : I → T = [1, 1]\n",
       "  is : I → S = [1, 2]\n",
       "  ot : O → T = [1, 1]\n",
       "  os : O → S = [2, 2]\n",
       "  tname : T → Name = [:β]\n",
       "  sname : S → Name = [:S, :I], TightACSetTransformation{Catlab.Theories.SchemaDescType{(:T, :S, :I, :O), (:it, :is, :ot, :os), (:Name,), (:tname, :sname), (it = 3, is = 3, ot = 4, os = 4, tname = 1, sname = 2), (it = 1, is = 2, ot = 1, os = 2, tname = 1, sname = 1)}, NamedTuple{(:T, :S, :I, :O), Tuple{Catlab.CategoricalAlgebra.FinSets.FinDomFunctionVector{Int64, UnitRange{Int64}, Catlab.CategoricalAlgebra.FinSets.FinSetInt}, Catlab.CategoricalAlgebra.FinSets.FinDomFunctionVector{Int64, Vector{Int64}, Catlab.CategoricalAlgebra.FinSets.FinSetInt}, Catlab.CategoricalAlgebra.FinSets.FinDomFunctionVector{Int64, UnitRange{Int64}, Catlab.CategoricalAlgebra.FinSets.FinSetInt}, Catlab.CategoricalAlgebra.FinSets.FinDomFunctionVector{Int64, UnitRange{Int64}, Catlab.CategoricalAlgebra.FinSets.FinSetInt}}}, LabelledPetriNet, LabelledPetriNet}[ACSetTransformation((T = FinFunction(1:0, 0, 1), S = FinFunction(Int64[], 0, 2), I = FinFunction(1:0, 0, 2), O = FinFunction(1:0, 0, 2)), LabelledPetriNetUntyped {T = 0, S = 0, I = 0, O = 0}, LabelledPetriNetUntyped {T = 1, S = 2, I = 2, O = 2}), ACSetTransformation((T = FinFunction(1:0, 0, 1), S = FinFunction([1, 2], 2, 2), I = FinFunction(1:0, 0, 2), O = FinFunction(1:0, 0, 2)), LabelledPetriNetUntyped {T = 0, S = 2, I = 0, O = 0}, LabelledPetriNetUntyped {T = 1, S = 2, I = 2, O = 2})]), Catlab.CSetDataStructures.StructACSetFrame{(:S,), Catlab.Theories.SchemaDescType{(:S,), (), (:Name,), (:sname,), (sname = 1,), (sname = 1,)}, Tuple{Symbol}, (sname = false,), (sname = false,), NamedTuple{(:sname,), Tuple{Vector{Symbol}}}}[Catlab.CSetDataStructures.StructACSetFrame{(:S,), Catlab.Theories.SchemaDescType{(:S,), (), (:Name,), (:sname,), (sname = 1,), (sname = 1,)}, Tuple{Symbol}, (sname = false,), (sname = false,), NamedTuple{(:sname,), Tuple{Vector{Symbol}}}}:\n",
       "  S = 1:0\n",
       "  sname : S → Name = Symbol[], Catlab.CSetDataStructures.StructACSetFrame{(:S,), Catlab.Theories.SchemaDescType{(:S,), (), (:Name,), (:sname,), (sname = 1,), (sname = 1,)}, Tuple{Symbol}, (sname = false,), (sname = false,), NamedTuple{(:sname,), Tuple{Vector{Symbol}}}}:\n",
       "  S = 1:2\n",
       "  sname : S → Name = [:S, :I]])"
      ]
     },
     "execution_count": 14,
     "metadata": {},
     "output_type": "execute_result"
    }
   ],
   "source": [
    "openLeftNet = Open([], leftNet, [:S, :I])"
   ]
  },
  {
   "cell_type": "code",
   "execution_count": 16,
   "id": "c55c1117",
   "metadata": {},
   "outputs": [
    {
     "data": {
      "text/plain": [
       "StructuredCospan{Catlab.CategoricalAlgebra.StructuredCospans.DiscreteACSet{Catlab.CSetDataStructures.StructACSetFrame{(:S,), Catlab.Theories.SchemaDescType{(:S,), (), (:Name,), (:sname,), (sname = 1,), (sname = 1,)}, Tuple{Symbol}, (sname = false,), (sname = false,), NamedTuple{(:sname,), Tuple{Vector{Symbol}}}}, LabelledPetriNet}, Multicospan{LabelledPetriNet, TightACSetTransformation{Catlab.Theories.SchemaDescType{(:T, :S, :I, :O), (:it, :is, :ot, :os), (:Name,), (:tname, :sname), (it = 3, is = 3, ot = 4, os = 4, tname = 1, sname = 2), (it = 1, is = 2, ot = 1, os = 2, tname = 1, sname = 1)}, NamedTuple{(:T, :S, :I, :O), Tuple{Catlab.CategoricalAlgebra.FinSets.FinDomFunctionVector{Int64, UnitRange{Int64}, Catlab.CategoricalAlgebra.FinSets.FinSetInt}, Catlab.CategoricalAlgebra.FinSets.FinDomFunctionVector{Int64, Vector{Int64}, Catlab.CategoricalAlgebra.FinSets.FinSetInt}, Catlab.CategoricalAlgebra.FinSets.FinDomFunctionVector{Int64, UnitRange{Int64}, Catlab.CategoricalAlgebra.FinSets.FinSetInt}, Catlab.CategoricalAlgebra.FinSets.FinDomFunctionVector{Int64, UnitRange{Int64}, Catlab.CategoricalAlgebra.FinSets.FinSetInt}}}, LabelledPetriNet, LabelledPetriNet}, StaticArraysCore.SVector{2, TightACSetTransformation{Catlab.Theories.SchemaDescType{(:T, :S, :I, :O), (:it, :is, :ot, :os), (:Name,), (:tname, :sname), (it = 3, is = 3, ot = 4, os = 4, tname = 1, sname = 2), (it = 1, is = 2, ot = 1, os = 2, tname = 1, sname = 1)}, NamedTuple{(:T, :S, :I, :O), Tuple{Catlab.CategoricalAlgebra.FinSets.FinDomFunctionVector{Int64, UnitRange{Int64}, Catlab.CategoricalAlgebra.FinSets.FinSetInt}, Catlab.CategoricalAlgebra.FinSets.FinDomFunctionVector{Int64, Vector{Int64}, Catlab.CategoricalAlgebra.FinSets.FinSetInt}, Catlab.CategoricalAlgebra.FinSets.FinDomFunctionVector{Int64, UnitRange{Int64}, Catlab.CategoricalAlgebra.FinSets.FinSetInt}, Catlab.CategoricalAlgebra.FinSets.FinDomFunctionVector{Int64, UnitRange{Int64}, Catlab.CategoricalAlgebra.FinSets.FinSetInt}}}, LabelledPetriNet, LabelledPetriNet}}}, StaticArraysCore.SVector{2, Catlab.CSetDataStructures.StructACSetFrame{(:S,), Catlab.Theories.SchemaDescType{(:S,), (), (:Name,), (:sname,), (sname = 1,), (sname = 1,)}, Tuple{Symbol}, (sname = false,), (sname = false,), NamedTuple{(:sname,), Tuple{Vector{Symbol}}}}}}(Multicospan{LabelledPetriNet, TightACSetTransformation{Catlab.Theories.SchemaDescType{(:T, :S, :I, :O), (:it, :is, :ot, :os), (:Name,), (:tname, :sname), (it = 3, is = 3, ot = 4, os = 4, tname = 1, sname = 2), (it = 1, is = 2, ot = 1, os = 2, tname = 1, sname = 1)}, NamedTuple{(:T, :S, :I, :O), Tuple{Catlab.CategoricalAlgebra.FinSets.FinDomFunctionVector{Int64, UnitRange{Int64}, Catlab.CategoricalAlgebra.FinSets.FinSetInt}, Catlab.CategoricalAlgebra.FinSets.FinDomFunctionVector{Int64, Vector{Int64}, Catlab.CategoricalAlgebra.FinSets.FinSetInt}, Catlab.CategoricalAlgebra.FinSets.FinDomFunctionVector{Int64, UnitRange{Int64}, Catlab.CategoricalAlgebra.FinSets.FinSetInt}, Catlab.CategoricalAlgebra.FinSets.FinDomFunctionVector{Int64, UnitRange{Int64}, Catlab.CategoricalAlgebra.FinSets.FinSetInt}}}, LabelledPetriNet, LabelledPetriNet}, StaticArraysCore.SVector{2, TightACSetTransformation{Catlab.Theories.SchemaDescType{(:T, :S, :I, :O), (:it, :is, :ot, :os), (:Name,), (:tname, :sname), (it = 3, is = 3, ot = 4, os = 4, tname = 1, sname = 2), (it = 1, is = 2, ot = 1, os = 2, tname = 1, sname = 1)}, NamedTuple{(:T, :S, :I, :O), Tuple{Catlab.CategoricalAlgebra.FinSets.FinDomFunctionVector{Int64, UnitRange{Int64}, Catlab.CategoricalAlgebra.FinSets.FinSetInt}, Catlab.CategoricalAlgebra.FinSets.FinDomFunctionVector{Int64, Vector{Int64}, Catlab.CategoricalAlgebra.FinSets.FinSetInt}, Catlab.CategoricalAlgebra.FinSets.FinDomFunctionVector{Int64, UnitRange{Int64}, Catlab.CategoricalAlgebra.FinSets.FinSetInt}, Catlab.CategoricalAlgebra.FinSets.FinDomFunctionVector{Int64, UnitRange{Int64}, Catlab.CategoricalAlgebra.FinSets.FinSetInt}}}, LabelledPetriNet, LabelledPetriNet}}}(LabelledPetriNet:\n",
       "  T = 1:1\n",
       "  S = 1:2\n",
       "  I = 1:1\n",
       "  O = 1:1\n",
       "  it : I → T = [1]\n",
       "  is : I → S = [1]\n",
       "  ot : O → T = [1]\n",
       "  os : O → S = [2]\n",
       "  tname : T → Name = [:γ]\n",
       "  sname : S → Name = [:I, :S], TightACSetTransformation{Catlab.Theories.SchemaDescType{(:T, :S, :I, :O), (:it, :is, :ot, :os), (:Name,), (:tname, :sname), (it = 3, is = 3, ot = 4, os = 4, tname = 1, sname = 2), (it = 1, is = 2, ot = 1, os = 2, tname = 1, sname = 1)}, NamedTuple{(:T, :S, :I, :O), Tuple{Catlab.CategoricalAlgebra.FinSets.FinDomFunctionVector{Int64, UnitRange{Int64}, Catlab.CategoricalAlgebra.FinSets.FinSetInt}, Catlab.CategoricalAlgebra.FinSets.FinDomFunctionVector{Int64, Vector{Int64}, Catlab.CategoricalAlgebra.FinSets.FinSetInt}, Catlab.CategoricalAlgebra.FinSets.FinDomFunctionVector{Int64, UnitRange{Int64}, Catlab.CategoricalAlgebra.FinSets.FinSetInt}, Catlab.CategoricalAlgebra.FinSets.FinDomFunctionVector{Int64, UnitRange{Int64}, Catlab.CategoricalAlgebra.FinSets.FinSetInt}}}, LabelledPetriNet, LabelledPetriNet}[ACSetTransformation((T = FinFunction(1:0, 0, 1), S = FinFunction([2, 1], 2, 2), I = FinFunction(1:0, 0, 1), O = FinFunction(1:0, 0, 1)), LabelledPetriNetUntyped {T = 0, S = 2, I = 0, O = 0}, LabelledPetriNetUntyped {T = 1, S = 2, I = 1, O = 1}), ACSetTransformation((T = FinFunction(1:0, 0, 1), S = FinFunction([2, 1], 2, 2), I = FinFunction(1:0, 0, 1), O = FinFunction(1:0, 0, 1)), LabelledPetriNetUntyped {T = 0, S = 2, I = 0, O = 0}, LabelledPetriNetUntyped {T = 1, S = 2, I = 1, O = 1})]), Catlab.CSetDataStructures.StructACSetFrame{(:S,), Catlab.Theories.SchemaDescType{(:S,), (), (:Name,), (:sname,), (sname = 1,), (sname = 1,)}, Tuple{Symbol}, (sname = false,), (sname = false,), NamedTuple{(:sname,), Tuple{Vector{Symbol}}}}[Catlab.CSetDataStructures.StructACSetFrame{(:S,), Catlab.Theories.SchemaDescType{(:S,), (), (:Name,), (:sname,), (sname = 1,), (sname = 1,)}, Tuple{Symbol}, (sname = false,), (sname = false,), NamedTuple{(:sname,), Tuple{Vector{Symbol}}}}:\n",
       "  S = 1:2\n",
       "  sname : S → Name = [:S, :I], Catlab.CSetDataStructures.StructACSetFrame{(:S,), Catlab.Theories.SchemaDescType{(:S,), (), (:Name,), (:sname,), (sname = 1,), (sname = 1,)}, Tuple{Symbol}, (sname = false,), (sname = false,), NamedTuple{(:sname,), Tuple{Vector{Symbol}}}}:\n",
       "  S = 1:2\n",
       "  sname : S → Name = [:S, :I]])"
      ]
     },
     "execution_count": 16,
     "metadata": {},
     "output_type": "execute_result"
    }
   ],
   "source": [
    "openRightNet = Open([:S, :I], rightNet, [:S, :I])"
   ]
  },
  {
   "cell_type": "code",
   "execution_count": 17,
   "id": "b3ddf6b8",
   "metadata": {},
   "outputs": [
    {
     "data": {
      "text/plain": [
       "StructuredCospan{Catlab.CategoricalAlgebra.StructuredCospans.DiscreteACSet{Catlab.CSetDataStructures.StructACSetFrame{(:S,), Catlab.Theories.SchemaDescType{(:S,), (), (:Name,), (:sname,), (sname = 1,), (sname = 1,)}, Tuple{Symbol}, (sname = false,), (sname = false,), NamedTuple{(:sname,), Tuple{Vector{Symbol}}}}, LabelledPetriNet}, Multicospan{LabelledPetriNet, TightACSetTransformation{Catlab.Theories.SchemaDescType{(:T, :S, :I, :O), (:it, :is, :ot, :os), (:Name,), (:tname, :sname), (it = 3, is = 3, ot = 4, os = 4, tname = 1, sname = 2), (it = 1, is = 2, ot = 1, os = 2, tname = 1, sname = 1)}, NamedTuple{(:T, :S, :I, :O), NTuple{4, Catlab.CategoricalAlgebra.FinSets.FinDomFunctionVector{Int64, Vector{Int64}, Catlab.CategoricalAlgebra.FinSets.FinSetInt}}}, LabelledPetriNet, LabelledPetriNet}, StaticArraysCore.SVector{2, TightACSetTransformation{Catlab.Theories.SchemaDescType{(:T, :S, :I, :O), (:it, :is, :ot, :os), (:Name,), (:tname, :sname), (it = 3, is = 3, ot = 4, os = 4, tname = 1, sname = 2), (it = 1, is = 2, ot = 1, os = 2, tname = 1, sname = 1)}, NamedTuple{(:T, :S, :I, :O), NTuple{4, Catlab.CategoricalAlgebra.FinSets.FinDomFunctionVector{Int64, Vector{Int64}, Catlab.CategoricalAlgebra.FinSets.FinSetInt}}}, LabelledPetriNet, LabelledPetriNet}}}, StaticArraysCore.SVector{2, Catlab.CSetDataStructures.StructACSetFrame{(:S,), Catlab.Theories.SchemaDescType{(:S,), (), (:Name,), (:sname,), (sname = 1,), (sname = 1,)}, Tuple{Symbol}, (sname = false,), (sname = false,), NamedTuple{(:sname,), Tuple{Vector{Symbol}}}}}}(Multicospan{LabelledPetriNet, TightACSetTransformation{Catlab.Theories.SchemaDescType{(:T, :S, :I, :O), (:it, :is, :ot, :os), (:Name,), (:tname, :sname), (it = 3, is = 3, ot = 4, os = 4, tname = 1, sname = 2), (it = 1, is = 2, ot = 1, os = 2, tname = 1, sname = 1)}, NamedTuple{(:T, :S, :I, :O), NTuple{4, Catlab.CategoricalAlgebra.FinSets.FinDomFunctionVector{Int64, Vector{Int64}, Catlab.CategoricalAlgebra.FinSets.FinSetInt}}}, LabelledPetriNet, LabelledPetriNet}, StaticArraysCore.SVector{2, TightACSetTransformation{Catlab.Theories.SchemaDescType{(:T, :S, :I, :O), (:it, :is, :ot, :os), (:Name,), (:tname, :sname), (it = 3, is = 3, ot = 4, os = 4, tname = 1, sname = 2), (it = 1, is = 2, ot = 1, os = 2, tname = 1, sname = 1)}, NamedTuple{(:T, :S, :I, :O), NTuple{4, Catlab.CategoricalAlgebra.FinSets.FinDomFunctionVector{Int64, Vector{Int64}, Catlab.CategoricalAlgebra.FinSets.FinSetInt}}}, LabelledPetriNet, LabelledPetriNet}}}(LabelledPetriNet:\n",
       "  T = 1:2\n",
       "  S = 1:2\n",
       "  I = 1:3\n",
       "  O = 1:3\n",
       "  it : I → T = [1, 1, 2]\n",
       "  is : I → S = [1, 2, 2]\n",
       "  ot : O → T = [1, 1, 2]\n",
       "  os : O → S = [2, 2, 1]\n",
       "  tname : T → Name = [:β, :γ]\n",
       "  sname : S → Name = [:S, :I], TightACSetTransformation{Catlab.Theories.SchemaDescType{(:T, :S, :I, :O), (:it, :is, :ot, :os), (:Name,), (:tname, :sname), (it = 3, is = 3, ot = 4, os = 4, tname = 1, sname = 2), (it = 1, is = 2, ot = 1, os = 2, tname = 1, sname = 1)}, NamedTuple{(:T, :S, :I, :O), NTuple{4, Catlab.CategoricalAlgebra.FinSets.FinDomFunctionVector{Int64, Vector{Int64}, Catlab.CategoricalAlgebra.FinSets.FinSetInt}}}, LabelledPetriNet, LabelledPetriNet}[ACSetTransformation((T = FinFunction(Int64[], 0, 2), S = FinFunction(Int64[], 0, 2), I = FinFunction(Int64[], 0, 3), O = FinFunction(Int64[], 0, 3)), LabelledPetriNetUntyped {T = 0, S = 0, I = 0, O = 0}, LabelledPetriNetUntyped {T = 2, S = 2, I = 3, O = 3}), ACSetTransformation((T = FinFunction(Int64[], 0, 2), S = FinFunction([1, 2], 2, 2), I = FinFunction(Int64[], 0, 3), O = FinFunction(Int64[], 0, 3)), LabelledPetriNetUntyped {T = 0, S = 2, I = 0, O = 0}, LabelledPetriNetUntyped {T = 2, S = 2, I = 3, O = 3})]), Catlab.CSetDataStructures.StructACSetFrame{(:S,), Catlab.Theories.SchemaDescType{(:S,), (), (:Name,), (:sname,), (sname = 1,), (sname = 1,)}, Tuple{Symbol}, (sname = false,), (sname = false,), NamedTuple{(:sname,), Tuple{Vector{Symbol}}}}[Catlab.CSetDataStructures.StructACSetFrame{(:S,), Catlab.Theories.SchemaDescType{(:S,), (), (:Name,), (:sname,), (sname = 1,), (sname = 1,)}, Tuple{Symbol}, (sname = false,), (sname = false,), NamedTuple{(:sname,), Tuple{Vector{Symbol}}}}:\n",
       "  S = 1:0\n",
       "  sname : S → Name = Symbol[], Catlab.CSetDataStructures.StructACSetFrame{(:S,), Catlab.Theories.SchemaDescType{(:S,), (), (:Name,), (:sname,), (sname = 1,), (sname = 1,)}, Tuple{Symbol}, (sname = false,), (sname = false,), NamedTuple{(:sname,), Tuple{Vector{Symbol}}}}:\n",
       "  S = 1:2\n",
       "  sname : S → Name = [:S, :I]])"
      ]
     },
     "execution_count": 17,
     "metadata": {},
     "output_type": "execute_result"
    }
   ],
   "source": [
    "openFullNet = compose(openLeftNet, openRightNet)"
   ]
  },
  {
   "cell_type": "code",
   "execution_count": 18,
   "id": "bfdedaaf",
   "metadata": {},
   "outputs": [
    {
     "data": {
      "image/svg+xml": [
       "<?xml version=\"1.0\" encoding=\"UTF-8\" standalone=\"no\"?>\n",
       "<!DOCTYPE svg PUBLIC \"-//W3C//DTD SVG 1.1//EN\"\n",
       " \"http://www.w3.org/Graphics/SVG/1.1/DTD/svg11.dtd\">\n",
       "<!-- Generated by graphviz version 2.43.0 (0)\n",
       " -->\n",
       "<!-- Title: G Pages: 1 -->\n",
       "<svg width=\"290pt\" height=\"83pt\"\n",
       " viewBox=\"0.00 0.00 290.00 83.00\" xmlns=\"http://www.w3.org/2000/svg\" xmlns:xlink=\"http://www.w3.org/1999/xlink\">\n",
       "<g id=\"graph0\" class=\"graph\" transform=\"scale(1 1) rotate(0) translate(4 79)\">\n",
       "<title>G</title>\n",
       "<polygon fill=\"white\" stroke=\"transparent\" points=\"-4,4 -4,-79 286,-79 286,4 -4,4\"/>\n",
       "<!-- s1 -->\n",
       "<g id=\"node1\" class=\"node\">\n",
       "<title>s1</title>\n",
       "<ellipse fill=\"#6c9ac3\" stroke=\"#6c9ac3\" cx=\"18\" cy=\"-18\" rx=\"18\" ry=\"18\"/>\n",
       "<text text-anchor=\"middle\" x=\"18\" y=\"-14.3\" font-family=\"Times,serif\" font-size=\"14.00\">S</text>\n",
       "</g>\n",
       "<!-- t1 -->\n",
       "<g id=\"node3\" class=\"node\">\n",
       "<title>t1</title>\n",
       "<polygon fill=\"#e28f41\" stroke=\"#e28f41\" points=\"118,-66 82,-66 82,-30 118,-30 118,-66\"/>\n",
       "<text text-anchor=\"middle\" x=\"100\" y=\"-44.3\" font-family=\"Times,serif\" font-size=\"14.00\">β</text>\n",
       "</g>\n",
       "<!-- s1&#45;&gt;t1 -->\n",
       "<g id=\"edge5\" class=\"edge\">\n",
       "<title>s1&#45;&gt;t1</title>\n",
       "<path fill=\"none\" stroke=\"black\" d=\"M35.19,-24.07C45.75,-28.03 59.79,-33.29 72.01,-37.88\"/>\n",
       "<polygon fill=\"black\" stroke=\"black\" points=\"71.14,-41.29 81.73,-41.52 73.59,-34.73 71.14,-41.29\"/>\n",
       "<text text-anchor=\"middle\" x=\"59\" y=\"-37.8\" font-family=\"Times,serif\" font-size=\"14.00\">1</text>\n",
       "</g>\n",
       "<!-- s2 -->\n",
       "<g id=\"node2\" class=\"node\">\n",
       "<title>s2</title>\n",
       "<ellipse fill=\"#6c9ac3\" stroke=\"#6c9ac3\" cx=\"182\" cy=\"-48\" rx=\"18\" ry=\"18\"/>\n",
       "<text text-anchor=\"middle\" x=\"182\" y=\"-44.3\" font-family=\"Times,serif\" font-size=\"14.00\">I</text>\n",
       "</g>\n",
       "<!-- s2&#45;&gt;t1 -->\n",
       "<g id=\"edge4\" class=\"edge\">\n",
       "<title>s2&#45;&gt;t1</title>\n",
       "<path fill=\"none\" stroke=\"black\" d=\"M164.39,-43.38C155.92,-41.54 145.44,-40.07 136,-41 133.46,-41.25 130.84,-41.6 128.22,-42.01\"/>\n",
       "<polygon fill=\"black\" stroke=\"black\" points=\"127.55,-38.58 118.34,-43.83 128.81,-45.46 127.55,-38.58\"/>\n",
       "<text text-anchor=\"middle\" x=\"141\" y=\"-44.8\" font-family=\"Times,serif\" font-size=\"14.00\">1</text>\n",
       "</g>\n",
       "<!-- t2 -->\n",
       "<g id=\"node4\" class=\"node\">\n",
       "<title>t2</title>\n",
       "<polygon fill=\"#e28f41\" stroke=\"#e28f41\" points=\"282,-36 246,-36 246,0 282,0 282,-36\"/>\n",
       "<text text-anchor=\"middle\" x=\"264\" y=\"-14.3\" font-family=\"Times,serif\" font-size=\"14.00\">γ</text>\n",
       "</g>\n",
       "<!-- s2&#45;&gt;t2 -->\n",
       "<g id=\"edge1\" class=\"edge\">\n",
       "<title>s2&#45;&gt;t2</title>\n",
       "<path fill=\"none\" stroke=\"black\" d=\"M199.19,-41.93C209.75,-37.97 223.79,-32.71 236.01,-28.12\"/>\n",
       "<polygon fill=\"black\" stroke=\"black\" points=\"237.59,-31.27 245.73,-24.48 235.14,-24.71 237.59,-31.27\"/>\n",
       "<text text-anchor=\"middle\" x=\"223\" y=\"-37.8\" font-family=\"Times,serif\" font-size=\"14.00\">1</text>\n",
       "</g>\n",
       "<!-- t1&#45;&gt;s2 -->\n",
       "<g id=\"edge3\" class=\"edge\">\n",
       "<title>t1&#45;&gt;s2</title>\n",
       "<path fill=\"none\" stroke=\"black\" d=\"M118.15,-55.14C123.74,-57.13 130.04,-59.01 136,-60 142.34,-61.06 149.07,-60.3 155.35,-58.76\"/>\n",
       "<polygon fill=\"black\" stroke=\"black\" points=\"156.86,-61.95 165.33,-55.6 154.74,-55.28 156.86,-61.95\"/>\n",
       "<text text-anchor=\"middle\" x=\"141\" y=\"-63.8\" font-family=\"Times,serif\" font-size=\"14.00\">2</text>\n",
       "</g>\n",
       "<!-- t2&#45;&gt;s1 -->\n",
       "<g id=\"edge2\" class=\"edge\">\n",
       "<title>t2&#45;&gt;s1</title>\n",
       "<path fill=\"none\" stroke=\"black\" d=\"M245.86,-18C204.14,-18 97.03,-18 46.35,-18\"/>\n",
       "<polygon fill=\"black\" stroke=\"black\" points=\"46.16,-14.5 36.16,-18 46.16,-21.5 46.16,-14.5\"/>\n",
       "<text text-anchor=\"middle\" x=\"141\" y=\"-21.8\" font-family=\"Times,serif\" font-size=\"14.00\">1</text>\n",
       "</g>\n",
       "</g>\n",
       "</svg>\n"
      ],
      "text/plain": [
       "Graph(\"G\", true, \"dot\", Catlab.Graphics.Graphviz.Statement[Catlab.Graphics.Graphviz.Node(\"s1\", OrderedCollections.OrderedDict{Symbol, Union{String, Catlab.Graphics.Graphviz.Html}}(:label => \"S\", :shape => \"circle\", :color => \"#6C9AC3\", :pos => \"\")), Catlab.Graphics.Graphviz.Node(\"s2\", OrderedCollections.OrderedDict{Symbol, Union{String, Catlab.Graphics.Graphviz.Html}}(:label => \"I\", :shape => \"circle\", :color => \"#6C9AC3\", :pos => \"\")), Catlab.Graphics.Graphviz.Node(\"t1\", OrderedCollections.OrderedDict{Symbol, Union{String, Catlab.Graphics.Graphviz.Html}}(:label => \"β\", :shape => \"square\", :color => \"#E28F41\", :pos => \"\")), Catlab.Graphics.Graphviz.Node(\"t2\", OrderedCollections.OrderedDict{Symbol, Union{String, Catlab.Graphics.Graphviz.Html}}(:label => \"γ\", :shape => \"square\", :color => \"#E28F41\", :pos => \"\")), Catlab.Graphics.Graphviz.Edge(Catlab.Graphics.Graphviz.NodeID[Catlab.Graphics.Graphviz.NodeID(\"s2\", \"\", \"\"), Catlab.Graphics.Graphviz.NodeID(\"t2\", \"\", \"\")], OrderedCollections.OrderedDict{Symbol, Union{String, Catlab.Graphics.Graphviz.Html}}(:labelfontsize => \"6\", :label => \"1\")), Catlab.Graphics.Graphviz.Edge(Catlab.Graphics.Graphviz.NodeID[Catlab.Graphics.Graphviz.NodeID(\"t2\", \"\", \"\"), Catlab.Graphics.Graphviz.NodeID(\"s1\", \"\", \"\")], OrderedCollections.OrderedDict{Symbol, Union{String, Catlab.Graphics.Graphviz.Html}}(:labelfontsize => \"6\", :label => \"1\")), Catlab.Graphics.Graphviz.Edge(Catlab.Graphics.Graphviz.NodeID[Catlab.Graphics.Graphviz.NodeID(\"t1\", \"\", \"\"), Catlab.Graphics.Graphviz.NodeID(\"s2\", \"\", \"\")], OrderedCollections.OrderedDict{Symbol, Union{String, Catlab.Graphics.Graphviz.Html}}(:labelfontsize => \"6\", :label => \"2\")), Catlab.Graphics.Graphviz.Edge(Catlab.Graphics.Graphviz.NodeID[Catlab.Graphics.Graphviz.NodeID(\"s2\", \"\", \"\"), Catlab.Graphics.Graphviz.NodeID(\"t1\", \"\", \"\")], OrderedCollections.OrderedDict{Symbol, Union{String, Catlab.Graphics.Graphviz.Html}}(:labelfontsize => \"6\", :label => \"1\")), Catlab.Graphics.Graphviz.Edge(Catlab.Graphics.Graphviz.NodeID[Catlab.Graphics.Graphviz.NodeID(\"s1\", \"\", \"\"), Catlab.Graphics.Graphviz.NodeID(\"t1\", \"\", \"\")], OrderedCollections.OrderedDict{Symbol, Union{String, Catlab.Graphics.Graphviz.Html}}(:labelfontsize => \"6\", :label => \"1\"))], OrderedCollections.OrderedDict{Symbol, Union{String, Catlab.Graphics.Graphviz.Html}}(:rankdir => \"LR\"), OrderedCollections.OrderedDict{Symbol, Union{String, Catlab.Graphics.Graphviz.Html}}(:shape => \"plain\", :style => \"filled\", :color => \"white\"), OrderedCollections.OrderedDict{Symbol, Union{String, Catlab.Graphics.Graphviz.Html}}(:splines => \"splines\"))"
      ]
     },
     "execution_count": 18,
     "metadata": {},
     "output_type": "execute_result"
    }
   ],
   "source": [
    "Graph(openFullNet)"
   ]
  },
  {
   "cell_type": "code",
   "execution_count": null,
   "id": "d0ea9725",
   "metadata": {},
   "outputs": [],
   "source": []
  },
  {
   "cell_type": "code",
   "execution_count": 20,
   "id": "d697aecb",
   "metadata": {},
   "outputs": [
    {
     "data": {
      "text/plain": [
       "StructuredCospan{Catlab.CategoricalAlgebra.StructuredCospans.DiscreteACSet{Catlab.CSetDataStructures.StructACSetFrame{(:S,), Catlab.Theories.SchemaDescType{(:S,), (), (:Name,), (:sname,), (sname = 1,), (sname = 1,)}, Tuple{Symbol}, (sname = false,), (sname = false,), NamedTuple{(:sname,), Tuple{Vector{Symbol}}}}, LabelledPetriNet}, Multicospan{LabelledPetriNet, TightACSetTransformation{Catlab.Theories.SchemaDescType{(:T, :S, :I, :O), (:it, :is, :ot, :os), (:Name,), (:tname, :sname), (it = 3, is = 3, ot = 4, os = 4, tname = 1, sname = 2), (it = 1, is = 2, ot = 1, os = 2, tname = 1, sname = 1)}, NamedTuple{(:T, :S, :I, :O), NTuple{4, Catlab.CategoricalAlgebra.FinSets.FinDomFunctionVector{Int64, Vector{Int64}, Catlab.CategoricalAlgebra.FinSets.FinSetInt}}}, LabelledPetriNet, LabelledPetriNet}, StaticArraysCore.SVector{2, TightACSetTransformation{Catlab.Theories.SchemaDescType{(:T, :S, :I, :O), (:it, :is, :ot, :os), (:Name,), (:tname, :sname), (it = 3, is = 3, ot = 4, os = 4, tname = 1, sname = 2), (it = 1, is = 2, ot = 1, os = 2, tname = 1, sname = 1)}, NamedTuple{(:T, :S, :I, :O), NTuple{4, Catlab.CategoricalAlgebra.FinSets.FinDomFunctionVector{Int64, Vector{Int64}, Catlab.CategoricalAlgebra.FinSets.FinSetInt}}}, LabelledPetriNet, LabelledPetriNet}}}, StaticArraysCore.SVector{2, Catlab.CSetDataStructures.StructACSetFrame{(:S,), Catlab.Theories.SchemaDescType{(:S,), (), (:Name,), (:sname,), (sname = 1,), (sname = 1,)}, Tuple{Symbol}, (sname = false,), (sname = false,), NamedTuple{(:sname,), Tuple{Vector{Symbol}}}}}}(Multicospan{LabelledPetriNet, TightACSetTransformation{Catlab.Theories.SchemaDescType{(:T, :S, :I, :O), (:it, :is, :ot, :os), (:Name,), (:tname, :sname), (it = 3, is = 3, ot = 4, os = 4, tname = 1, sname = 2), (it = 1, is = 2, ot = 1, os = 2, tname = 1, sname = 1)}, NamedTuple{(:T, :S, :I, :O), NTuple{4, Catlab.CategoricalAlgebra.FinSets.FinDomFunctionVector{Int64, Vector{Int64}, Catlab.CategoricalAlgebra.FinSets.FinSetInt}}}, LabelledPetriNet, LabelledPetriNet}, StaticArraysCore.SVector{2, TightACSetTransformation{Catlab.Theories.SchemaDescType{(:T, :S, :I, :O), (:it, :is, :ot, :os), (:Name,), (:tname, :sname), (it = 3, is = 3, ot = 4, os = 4, tname = 1, sname = 2), (it = 1, is = 2, ot = 1, os = 2, tname = 1, sname = 1)}, NamedTuple{(:T, :S, :I, :O), NTuple{4, Catlab.CategoricalAlgebra.FinSets.FinDomFunctionVector{Int64, Vector{Int64}, Catlab.CategoricalAlgebra.FinSets.FinSetInt}}}, LabelledPetriNet, LabelledPetriNet}}}(LabelledPetriNet:\n",
       "  T = 1:2\n",
       "  S = 1:2\n",
       "  I = 1:3\n",
       "  O = 1:3\n",
       "  it : I → T = [1, 1, 2]\n",
       "  is : I → S = [1, 2, 2]\n",
       "  ot : O → T = [1, 1, 2]\n",
       "  os : O → S = [2, 2, 1]\n",
       "  tname : T → Name = [:β, :γ]\n",
       "  sname : S → Name = [:S, :I], TightACSetTransformation{Catlab.Theories.SchemaDescType{(:T, :S, :I, :O), (:it, :is, :ot, :os), (:Name,), (:tname, :sname), (it = 3, is = 3, ot = 4, os = 4, tname = 1, sname = 2), (it = 1, is = 2, ot = 1, os = 2, tname = 1, sname = 1)}, NamedTuple{(:T, :S, :I, :O), NTuple{4, Catlab.CategoricalAlgebra.FinSets.FinDomFunctionVector{Int64, Vector{Int64}, Catlab.CategoricalAlgebra.FinSets.FinSetInt}}}, LabelledPetriNet, LabelledPetriNet}[ACSetTransformation((T = FinFunction(Int64[], 0, 2), S = FinFunction(Int64[], 0, 2), I = FinFunction(Int64[], 0, 3), O = FinFunction(Int64[], 0, 3)), LabelledPetriNetUntyped {T = 0, S = 0, I = 0, O = 0}, LabelledPetriNetUntyped {T = 2, S = 2, I = 3, O = 3}), ACSetTransformation((T = FinFunction(Int64[], 0, 2), S = FinFunction([1, 2], 2, 2), I = FinFunction(Int64[], 0, 3), O = FinFunction(Int64[], 0, 3)), LabelledPetriNetUntyped {T = 0, S = 2, I = 0, O = 0}, LabelledPetriNetUntyped {T = 2, S = 2, I = 3, O = 3})]), Catlab.CSetDataStructures.StructACSetFrame{(:S,), Catlab.Theories.SchemaDescType{(:S,), (), (:Name,), (:sname,), (sname = 1,), (sname = 1,)}, Tuple{Symbol}, (sname = false,), (sname = false,), NamedTuple{(:sname,), Tuple{Vector{Symbol}}}}[Catlab.CSetDataStructures.StructACSetFrame{(:S,), Catlab.Theories.SchemaDescType{(:S,), (), (:Name,), (:sname,), (sname = 1,), (sname = 1,)}, Tuple{Symbol}, (sname = false,), (sname = false,), NamedTuple{(:sname,), Tuple{Vector{Symbol}}}}:\n",
       "  S = 1:0\n",
       "  sname : S → Name = Symbol[], Catlab.CSetDataStructures.StructACSetFrame{(:S,), Catlab.Theories.SchemaDescType{(:S,), (), (:Name,), (:sname,), (sname = 1,), (sname = 1,)}, Tuple{Symbol}, (sname = false,), (sname = false,), NamedTuple{(:sname,), Tuple{Vector{Symbol}}}}:\n",
       "  S = 1:2\n",
       "  sname : S → Name = [:S, :I]])"
      ]
     },
     "execution_count": 20,
     "metadata": {},
     "output_type": "execute_result"
    }
   ],
   "source": [
    "openFullNet\n"
   ]
  },
  {
   "cell_type": "code",
   "execution_count": 22,
   "id": "83215e78",
   "metadata": {},
   "outputs": [
    {
     "data": {
      "text/plain": [
       "2-element StaticArraysCore.SVector{2, TightACSetTransformation{Catlab.Theories.SchemaDescType{(:T, :S, :I, :O), (:it, :is, :ot, :os), (:Name,), (:tname, :sname), (it = 3, is = 3, ot = 4, os = 4, tname = 1, sname = 2), (it = 1, is = 2, ot = 1, os = 2, tname = 1, sname = 1)}, NamedTuple{(:T, :S, :I, :O), NTuple{4, Catlab.CategoricalAlgebra.FinSets.FinDomFunctionVector{Int64, Vector{Int64}, Catlab.CategoricalAlgebra.FinSets.FinSetInt}}}, LabelledPetriNet, LabelledPetriNet}} with indices SOneTo(2):\n",
       " ACSetTransformation((T = FinFunction(Int64[], 0, 2), S = FinFunction(Int64[], 0, 2), I = FinFunction(Int64[], 0, 3), O = FinFunction(Int64[], 0, 3)), LabelledPetriNetUntyped {T = 0, S = 0, I = 0, O = 0}, LabelledPetriNetUntyped {T = 2, S = 2, I = 3, O = 3})\n",
       " ACSetTransformation((T = FinFunction(Int64[], 0, 2), S = FinFunction([1, 2], 2, 2), I = FinFunction(Int64[], 0, 3), O = FinFunction(Int64[], 0, 3)), LabelledPetriNetUntyped {T = 0, S = 2, I = 0, O = 0}, LabelledPetriNetUntyped {T = 2, S = 2, I = 3, O = 3})"
      ]
     },
     "execution_count": 22,
     "metadata": {},
     "output_type": "execute_result"
    }
   ],
   "source": [
    "legs(openFullNet)"
   ]
  },
  {
   "cell_type": "code",
   "execution_count": null,
   "id": "b26c0e68",
   "metadata": {},
   "outputs": [],
   "source": []
  }
 ],
 "metadata": {
  "kernelspec": {
   "display_name": "Julia 1.6.5",
   "language": "julia",
   "name": "julia-1.6"
  },
  "language_info": {
   "file_extension": ".jl",
   "mimetype": "application/julia",
   "name": "julia",
   "version": "1.6.5"
  }
 },
 "nbformat": 4,
 "nbformat_minor": 5
}
